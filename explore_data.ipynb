{
 "cells": [
  {
   "cell_type": "code",
   "execution_count": 1,
   "metadata": {
    "scrolled": true
   },
   "outputs": [
    {
     "name": "stdout",
     "output_type": "stream",
     "text": [
      "                                                                                                                   ┌Feature: Solar Radiation (MJ/m2). Split: ['very low dew point']. Entropy: 0.227\n",
      "                                                    ┌Feature: Hour. Split: ['morning', 'afternoon']. Entropy: 0.127┤\n",
      "                                                    │                                                              └Feature: Solar Radiation (MJ/m2). Split: ['high dew point']. Entropy: 0.011\n",
      " Feature: Seasons. Split: ['Winter']. Entropy: 0.985┤\n",
      "                                                    │                                                                                                                         ┌Feature: Dew point temperature(°C). Split: ['very low dew point']. Entropy: 0.126\n",
      "                                                    │                                                  ┌Feature: Temperature(°C). Split: ['cold', 'very cold']. Entropy: 0.631┤\n",
      "                                                    │                                                  │                                                                      └Feature: Rainfall(mm). Split: ['no rain']. Entropy: 0.762\n",
      "                                                    └Feature: Hour. Split: ['midnight']. Entropy: 0.989┤\n",
      "                                                                                                       │                                                           ┌Feature: Rainfall(mm). Split: ['no rain']. Entropy: 0.819\n",
      "                                                                                                       └Feature: Humidity(%). Split: ['very humid']. Entropy: 0.881┤\n",
      "                                                                                                                                                                   └Feature: Functioning Day. Split: ['Yes']. Entropy: 0.754┐\n",
      "                                                                                                                                                                                                                            └Feature: None. Split: None. Entropy: 0\n"
     ]
    }
   ],
   "source": [
    "import pandas as pd\n",
    "import numpy as np\n",
    "from q1 import process_data, DecisionTree\n",
    "import matplotlib.pyplot as plt\n",
    "import math\n",
    "import itertools"
   ]
  },
  {
   "cell_type": "code",
   "execution_count": 2,
   "metadata": {},
   "outputs": [],
   "source": [
    "from sklearn.model_selection import train_test_split\n",
    "\n",
    "df = pd.read_csv('SeoulBikeData.csv', encoding='unicode_escape')\n",
    "df = process_data(df)\n",
    "x_train, x_test, y_train, y_test = train_test_split(df.drop(columns=['is_busy']), df['is_busy'], test_size=0.1)\n",
    "dt = DecisionTree(max_depth=10)\n",
    "dt.fit(pd.concat([x_train, y_train], axis=1))"
   ]
  },
  {
   "cell_type": "code",
   "execution_count": 3,
   "metadata": {
    "scrolled": true
   },
   "outputs": [],
   "source": [
    "y_pred = dt.predict(x_test)"
   ]
  },
  {
   "cell_type": "code",
   "execution_count": 6,
   "metadata": {},
   "outputs": [
    {
     "data": {
      "text/plain": [
       "0.8698630136986302"
      ]
     },
     "execution_count": 6,
     "metadata": {},
     "output_type": "execute_result"
    }
   ],
   "source": [
    "(y_pred == y_test).sum() / (y_pred == y_test).count()"
   ]
  },
  {
   "cell_type": "code",
   "execution_count": 5,
   "metadata": {},
   "outputs": [
    {
     "name": "stdout",
     "output_type": "stream",
     "text": [
      "2\n"
     ]
    },
    {
     "ename": "NameError",
     "evalue": "name 'gens' is not defined",
     "output_type": "error",
     "traceback": [
      "\u001b[0;31m---------------------------------------------------------------------------\u001b[0m",
      "\u001b[0;31mNameError\u001b[0m                                 Traceback (most recent call last)",
      "\u001b[0;32m/var/folders/nw/skkvd9wj7xg5pkhk2xp5f9_h0000gn/T/ipykernel_4856/1652331986.py\u001b[0m in \u001b[0;36m<module>\u001b[0;34m\u001b[0m\n\u001b[1;32m      4\u001b[0m \u001b[0;32mwhile\u001b[0m \u001b[0mlen\u001b[0m\u001b[0;34m(\u001b[0m\u001b[0mcurr_children\u001b[0m\u001b[0;34m)\u001b[0m\u001b[0;34m>\u001b[0m\u001b[0;36m0\u001b[0m\u001b[0;34m:\u001b[0m\u001b[0;34m\u001b[0m\u001b[0;34m\u001b[0m\u001b[0m\n\u001b[1;32m      5\u001b[0m     \u001b[0mprint\u001b[0m\u001b[0;34m(\u001b[0m\u001b[0mi\u001b[0m\u001b[0;34m)\u001b[0m\u001b[0;34m\u001b[0m\u001b[0;34m\u001b[0m\u001b[0m\n\u001b[0;32m----> 6\u001b[0;31m     \u001b[0mgens\u001b[0m\u001b[0;34m[\u001b[0m\u001b[0mi\u001b[0m\u001b[0;34m]\u001b[0m \u001b[0;34m=\u001b[0m \u001b[0mcurr_children\u001b[0m\u001b[0;34m\u001b[0m\u001b[0;34m\u001b[0m\u001b[0m\n\u001b[0m\u001b[1;32m      7\u001b[0m     \u001b[0mnext_gen\u001b[0m \u001b[0;34m=\u001b[0m \u001b[0;34m[\u001b[0m\u001b[0;34m]\u001b[0m\u001b[0;34m\u001b[0m\u001b[0;34m\u001b[0m\u001b[0m\n\u001b[1;32m      8\u001b[0m     \u001b[0;32mfor\u001b[0m \u001b[0mchild\u001b[0m \u001b[0;32min\u001b[0m \u001b[0mcurr_children\u001b[0m\u001b[0;34m:\u001b[0m\u001b[0;34m\u001b[0m\u001b[0;34m\u001b[0m\u001b[0m\n",
      "\u001b[0;31mNameError\u001b[0m: name 'gens' is not defined"
     ]
    }
   ],
   "source": [
    "single = None\n",
    "i=2\n",
    "curr_children = node.children\n",
    "while len(curr_children)>0:\n",
    "    print(i)\n",
    "    gens[i] = curr_children\n",
    "    next_gen = []    \n",
    "    for child in curr_children:\n",
    "        if len(child.children)>0:\n",
    "            if is_significant(child):\n",
    "                pass\n",
    "            else:\n",
    "                print('wasn\\'t significant, level:' +str(i))\n",
    "                child.children = []\n",
    "        \n",
    "        next_gen.extend(child.children)\n",
    "    \n",
    "    curr_children = next_gen\n",
    "    i+=1\n",
    "        "
   ]
  },
  {
   "cell_type": "code",
   "execution_count": null,
   "metadata": {},
   "outputs": [],
   "source": [
    "\n",
    "gens"
   ]
  },
  {
   "cell_type": "code",
   "execution_count": null,
   "metadata": {},
   "outputs": [],
   "source": []
  },
  {
   "cell_type": "code",
   "execution_count": null,
   "metadata": {},
   "outputs": [],
   "source": [
    "for "
   ]
  },
  {
   "cell_type": "code",
   "execution_count": null,
   "metadata": {},
   "outputs": [],
   "source": [
    "deviation_2"
   ]
  },
  {
   "cell_type": "code",
   "execution_count": null,
   "metadata": {},
   "outputs": [],
   "source": []
  }
 ],
 "metadata": {
  "kernelspec": {
   "display_name": "Python 3 (ipykernel)",
   "language": "python",
   "name": "python3"
  },
  "language_info": {
   "codemirror_mode": {
    "name": "ipython",
    "version": 3
   },
   "file_extension": ".py",
   "mimetype": "text/x-python",
   "name": "python",
   "nbconvert_exporter": "python",
   "pygments_lexer": "ipython3",
   "version": "3.9.1"
  }
 },
 "nbformat": 4,
 "nbformat_minor": 1
}
